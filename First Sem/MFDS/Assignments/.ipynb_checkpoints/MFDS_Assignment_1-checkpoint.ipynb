{
 "cells": [
  {
   "cell_type": "code",
   "execution_count": 23,
   "id": "1d75a375",
   "metadata": {},
   "outputs": [],
   "source": [
    "import time\n",
    "import random\n",
    "import pandas as pd\n",
    "from tqdm import tqdm\n",
    "from copy import copy, deepcopy\n",
    "from pprint import pprint\n",
    "from functools import partial\n",
    "from matplotlib import pyplot as plt"
   ]
  },
  {
   "cell_type": "code",
   "execution_count": 24,
   "id": "e680ffe2",
   "metadata": {},
   "outputs": [
    {
     "data": {
      "text/plain": [
       "'Thu Dec  9 11:24:38 2021'"
      ]
     },
     "execution_count": 24,
     "metadata": {},
     "output_type": "execute_result"
    }
   ],
   "source": [
    "# from time import ctime\n",
    "# ctime()"
   ]
  },
  {
   "cell_type": "code",
   "execution_count": 25,
   "id": "1dbc9b7c",
   "metadata": {},
   "outputs": [
    {
     "name": "stdout",
     "output_type": "stream",
     "text": [
      "Total time taken for add operation: 0.46225810050964355 seconds\n",
      "Approximate time taken for one add operation: 4.622581005096436e-07 seconds\n",
      "500000500000\n"
     ]
    }
   ],
   "source": [
    "## Add operation\n",
    "add_op = 1\n",
    "count=0\n",
    "st_time = time.time()\n",
    "for i in range(2, (10**6)+1):\n",
    "    add_op = i + add_op\n",
    "time_taken = time.time() - st_time\n",
    "print(f\"Total time taken for add operation: {time_taken} seconds\")\n",
    "print(f\"Approximate time taken for one add operation: {(time_taken / (10**6))} seconds\")\n",
    "print(add_op)\n",
    "# print(count)"
   ]
  },
  {
   "cell_type": "code",
   "execution_count": 26,
   "id": "3c17773d",
   "metadata": {},
   "outputs": [
    {
     "name": "stdout",
     "output_type": "stream",
     "text": [
      "Time taken for multiplication operation: 1798.6975429058075 seconds\n",
      "Approximate time taken for one multiplication operation: 0.0017986975429058075 seconds\n"
     ]
    }
   ],
   "source": [
    "## Multiplication operation\n",
    "mul_op = 1\n",
    "st_time = time.time()\n",
    "for i in range(2, (10**6)+1):\n",
    "    mul_op = i * mul_op\n",
    "time_taken = time.time() - st_time\n",
    "print(f\"Time taken for multiplication operation: {time_taken} seconds\")\n",
    "print(f\"Approximate time taken for one multiplication operation: {time_taken / (10**6)} seconds\")\n"
   ]
  },
  {
   "cell_type": "code",
   "execution_count": 27,
   "id": "0878ab0b",
   "metadata": {},
   "outputs": [
    {
     "name": "stderr",
     "output_type": "stream",
     "text": [
      "100%|██████████████████████████████████████████████████████████████████████| 999999/999999 [00:01<00:00, 622363.20it/s]"
     ]
    },
    {
     "name": "stdout",
     "output_type": "stream",
     "text": [
      "Time taken for division operation: 2.5107297897338867 seconds\n",
      "Approximate time taken for one division operation: 2.5107297897338866e-06 seconds\n",
      "1253.3144506440922\n"
     ]
    },
    {
     "name": "stderr",
     "output_type": "stream",
     "text": [
      "\n"
     ]
    }
   ],
   "source": [
    "## Division operation\n",
    "div_op = 1\n",
    "st_time = time.time()\n",
    "for i in tqdm(range(2, (10**6)+1)):\n",
    "    div_op = i / div_op\n",
    "time_taken = time.time() - st_time\n",
    "print(f\"Time taken for division operation: {time_taken} seconds\")\n",
    "print(f\"Approximate time taken for one division operation: {time_taken / (10**6)} seconds\")\n",
    "print(div_op)\n"
   ]
  },
  {
   "cell_type": "code",
   "execution_count": null,
   "id": "26a52990",
   "metadata": {},
   "outputs": [],
   "source": []
  }
 ],
 "metadata": {
  "kernelspec": {
   "display_name": "Python 3",
   "language": "python",
   "name": "python3"
  },
  "language_info": {
   "codemirror_mode": {
    "name": "ipython",
    "version": 3
   },
   "file_extension": ".py",
   "mimetype": "text/x-python",
   "name": "python",
   "nbconvert_exporter": "python",
   "pygments_lexer": "ipython3",
   "version": "3.8.5"
  }
 },
 "nbformat": 4,
 "nbformat_minor": 5
}
