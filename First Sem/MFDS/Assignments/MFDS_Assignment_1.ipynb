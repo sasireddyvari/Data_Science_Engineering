{
 "cells": [
  {
   "cell_type": "code",
   "execution_count": 30,
   "id": "3f89232a",
   "metadata": {},
   "outputs": [],
   "source": [
    "import time\n",
    "import random\n",
    "import math\n",
    "import pandas as pd\n",
    "from tqdm import tqdm\n",
    "from functools import partial\n",
    "from matplotlib import pyplot as plt"
   ]
  },
  {
   "cell_type": "code",
   "execution_count": 24,
   "id": "68f94e17",
   "metadata": {},
   "outputs": [
    {
     "data": {
      "text/plain": [
       "'Thu Dec  9 11:24:38 2021'"
      ]
     },
     "execution_count": 24,
     "metadata": {},
     "output_type": "execute_result"
    }
   ],
   "source": [
    "# from time import ctime\n",
    "# ctime()"
   ]
  },
  {
   "cell_type": "code",
   "execution_count": 25,
   "id": "e7360d28",
   "metadata": {},
   "outputs": [
    {
     "name": "stdout",
     "output_type": "stream",
     "text": [
      "Total time taken for add operation: 0.46225810050964355 seconds\n",
      "Approximate time taken for one add operation: 4.622581005096436e-07 seconds\n",
      "500000500000\n"
     ]
    }
   ],
   "source": [
    "## Add operation\n",
    "add_op = 1\n",
    "count=0\n",
    "st_time = time.time()\n",
    "for i in range(2, (10**6)+1):\n",
    "    add_op = i + add_op\n",
    "time_taken = time.time() - st_time\n",
    "print(f\"Total time taken for add operation: {time_taken} seconds\")\n",
    "print(f\"Approximate time taken for one add operation: {(time_taken / (10**6))} seconds\")\n",
    "print(add_op)\n",
    "# print(count)"
   ]
  },
  {
   "cell_type": "code",
   "execution_count": 26,
   "id": "a4697d18",
   "metadata": {},
   "outputs": [
    {
     "name": "stdout",
     "output_type": "stream",
     "text": [
      "Time taken for multiplication operation: 1798.6975429058075 seconds\n",
      "Approximate time taken for one multiplication operation: 0.0017986975429058075 seconds\n"
     ]
    }
   ],
   "source": [
    "## Multiplication operation\n",
    "mul_op = 1\n",
    "st_time = time.time()\n",
    "for i in range(2, (10**6)+1):\n",
    "    mul_op = i * mul_op\n",
    "time_taken = time.time() - st_time\n",
    "print(f\"Time taken for multiplication operation: {time_taken} seconds\")\n",
    "print(f\"Approximate time taken for one multiplication operation: {time_taken / (10**6)} seconds\")\n"
   ]
  },
  {
   "cell_type": "code",
   "execution_count": 27,
   "id": "db633cd3",
   "metadata": {},
   "outputs": [
    {
     "name": "stderr",
     "output_type": "stream",
     "text": [
      "100%|██████████████████████████████████████████████████████████████████████| 999999/999999 [00:01<00:00, 622363.20it/s]"
     ]
    },
    {
     "name": "stdout",
     "output_type": "stream",
     "text": [
      "Time taken for division operation: 2.5107297897338867 seconds\n",
      "Approximate time taken for one division operation: 2.5107297897338866e-06 seconds\n",
      "1253.3144506440922\n"
     ]
    },
    {
     "name": "stderr",
     "output_type": "stream",
     "text": [
      "\n"
     ]
    }
   ],
   "source": [
    "## Division operation\n",
    "div_op = 1\n",
    "st_time = time.time()\n",
    "for i in tqdm(range(2, (10**6)+1)):\n",
    "    div_op = i / div_op\n",
    "time_taken = time.time() - st_time\n",
    "print(f\"Time taken for division operation: {time_taken} seconds\")\n",
    "print(f\"Approximate time taken for one division operation: {time_taken / (10**6)} seconds\")\n",
    "print(div_op)\n"
   ]
  },
  {
   "cell_type": "code",
   "execution_count": null,
   "id": "36a4c73d",
   "metadata": {},
   "outputs": [],
   "source": []
  },
  {
   "cell_type": "code",
   "execution_count": 31,
   "id": "a354cef8",
   "metadata": {},
   "outputs": [],
   "source": [
    "def roundto_d_significant(value, sig_digits):\n",
    "    if value == 0:\n",
    "        return 0\n",
    "    return round(value, sig_digits - int(math.floor(math.log10(abs(value)))) - 1)\n",
    "\n",
    "\n",
    "def rank_of_matrix(matrix):\n",
    "    rank = 0\n",
    "    for row in matrix:\n",
    "        if sum(row) != 0:\n",
    "            rank += 1\n",
    "    return rank\n",
    "    \n",
    "\n",
    "def guass_elimination(A: list, b: list, partial_pivoting: bool = False, d: int = 3):\n",
    "    \"\"\"\n",
    "    A: A square matrix n*n\n",
    "    b: A vecor of size n\n",
    "    partial_pivoting: Whether to perform partial pivoting or not\n",
    "    d: number of significant digits to be rounded to\n",
    "    \"\"\"\n",
    "    assert len(A) == len(b) # No of equations is equal to length of vector\n",
    "    for row in A:\n",
    "        assert len(row) == len(A) # Assert square matrix\n",
    "        \n",
    "    rounding = partial(roundto_d_significant, sig_digits = d)\n",
    "    \n",
    "    # Create augmented matrix\n",
    "    for i in range(len(A)):\n",
    "        A[i].append(b[i])\n",
    "    \n",
    "    # Bringing the matrix to reduced echelon form (REF)\n",
    "    for index_row in range(0, len(A)-1):\n",
    "        \n",
    "        # Partial pivoting\n",
    "        if partial_pivoting:\n",
    "            cur_max = abs(A[index_row][index_row])\n",
    "            cur_max_row = index_row\n",
    "            # Check if pivoting need to be done\n",
    "            for i in range(index_row + 1, len(A)):\n",
    "                if abs(A[i][index_row]) > cur_max:\n",
    "                    cur_max = abs(A[i][index_row]) # Absolute value considered for pivoting\n",
    "                    cur_max_row = i\n",
    "            # If pivoting need to be done\n",
    "            if cur_max_row != index_row:\n",
    "                temp = A[index_row]\n",
    "                A[index_row] = A[cur_max_row]\n",
    "                A[cur_max_row] = temp\n",
    "        \n",
    "        for i in range(index_row + 1, len(A)):\n",
    "            # Skip the rwo transform if the value is already zero\n",
    "            if A[i][index_row] == 0:\n",
    "                continue\n",
    "            \n",
    "            # Calculate the coefficient to mutiply with the index row\n",
    "            scaler = rounding(A[i][index_row] / A[index_row][index_row])\n",
    "            if (A[i][index_row] < 0 and A[index_row][index_row] < 0) or ((A[i][index_row] > 0 and A[index_row][index_row] > 0)):\n",
    "                scaler = -scaler\n",
    "            \n",
    "            # Assign all the prior values to zero\n",
    "            for j in range(0, index_row + 1):\n",
    "                A[i][j] = 0\n",
    "\n",
    "            # Compute rest of the values in the row\n",
    "            for j in range(index_row + 1, len(A[i])):\n",
    "                A[i][j] = rounding(A[i][j] + (scaler * A[index_row][j]))\n",
    "                \n",
    "                    \n",
    "    # Back substitution\n",
    "\n",
    "    # Initialize None for all variables\n",
    "    variable_values = {}\n",
    "    for i in range(len(A)):\n",
    "        variable_values[f'x{i}'] = None\n",
    "    \n",
    "    # Assign arbitrary values if needed\n",
    "    no_aug_A = [[A[i][j] for j in range(len(A[i]) - 1)] for i in range(len(A))]\n",
    "    if rank_of_matrix(no_aug_A) != rank_of_matrix(A):\n",
    "        print(\"The system is inconsistent!!\")\n",
    "        return\n",
    "    else:\n",
    "        if rank_of_matrix(A) < len(A):\n",
    "            for i in range(len(A)-1, rank_of_matrix(A)-1, -1):\n",
    "                variable_values[f'x{i}'] = rounding(random.random())\n",
    "        \n",
    "        # Solve different equations for different variables\n",
    "        for i in range(rank_of_matrix(no_aug_A) - 1, -1, -1):\n",
    "            known_coeffs = [A[i][j] * variable_values[f'x{j}'] for j in range(i+1, len(A[i]) - 1)]\n",
    "            known_coeffs = [rounding(v) for v in known_coeffs]\n",
    "            rhs = rounding((A[i][-1] - rounding(sum(known_coeffs))))\n",
    "            variable_values[f'x{i}'] =  rounding(rhs / A[i][i])\n",
    "\n",
    "    return variable_values\n"
   ]
  },
  {
   "cell_type": "code",
   "execution_count": 32,
   "id": "210d78ef",
   "metadata": {},
   "outputs": [
    {
     "data": {
      "text/plain": [
       "{'x0': 1.602, 'x1': 1.133, 'x2': 0.2646}"
      ]
     },
     "execution_count": 32,
     "metadata": {},
     "output_type": "execute_result"
    }
   ],
   "source": [
    "guass_elimination(A=[[1, 1, 1], [2, 4, 1], [6, 10, 4]], b=[3, 8, 22], partial_pivoting=False, d=4)\n"
   ]
  },
  {
   "cell_type": "code",
   "execution_count": null,
   "id": "870873b2",
   "metadata": {},
   "outputs": [],
   "source": []
  },
  {
   "cell_type": "code",
   "execution_count": 33,
   "id": "e7252e66",
   "metadata": {},
   "outputs": [],
   "source": [
    "def guass_operation_count(n: int):\n",
    "    \"\"\"\n",
    "    n: Number of row / columns in a square matrix\n",
    "    \"\"\"\n",
    "    # Operation count for addition\n",
    "    ref_addition = (n * (n+1) * (2 * n + 1)) / 6 # Number of addition for REF\n",
    "    backsub_addition = (n * (n - 1)) / 2\n",
    "    total_addition = ref_addition + backsub_addition\n",
    "    \n",
    "    # Operation count for multiplication\n",
    "    total_multiplication = total_addition # Same as addition\n",
    "    \n",
    "    # Operation count for division\n",
    "    ref_division = (n * (n-1)) / 2\n",
    "    backsub_division = n\n",
    "    total_division = ref_division + backsub_division\n",
    "\n",
    "    # Summarize\n",
    "    operation_count = {\n",
    "        'addition': total_addition,\n",
    "        'multiplication': total_multiplication,\n",
    "        'division': total_division\n",
    "    }\n",
    "    \n",
    "    return operation_count\n",
    "    "
   ]
  },
  {
   "cell_type": "code",
   "execution_count": 34,
   "id": "f2912e49",
   "metadata": {},
   "outputs": [
    {
     "data": {
      "text/plain": [
       "{'addition': 17.0, 'multiplication': 17.0, 'division': 6.0}"
      ]
     },
     "execution_count": 34,
     "metadata": {},
     "output_type": "execute_result"
    }
   ],
   "source": [
    "guass_operation_count(3)\n"
   ]
  },
  {
   "cell_type": "code",
   "execution_count": 35,
   "id": "a64e99d4",
   "metadata": {},
   "outputs": [],
   "source": [
    "def generate_test_data():\n",
    "    test_cases = {}\n",
    "    for case in range(100, 1100, 100):\n",
    "        A = [[roundto_d_significant(random.random(), sig_digits=5) for _ in range(case)]for _ in range(case)]\n",
    "        b = [roundto_d_significant(random.random(), sig_digits=5) for _ in range(case)]\n",
    "        test_cases[case] = {'A': A, 'b': b}\n",
    "\n",
    "    return test_cases\n",
    "    "
   ]
  },
  {
   "cell_type": "code",
   "execution_count": 36,
   "id": "b99b7524",
   "metadata": {},
   "outputs": [
    {
     "name": "stdout",
     "output_type": "stream",
     "text": [
      "100\n",
      "A: 100 * 100\n",
      "b: 100\n",
      "------------------------------\n",
      "200\n",
      "A: 200 * 200\n",
      "b: 200\n",
      "------------------------------\n",
      "300\n",
      "A: 300 * 300\n",
      "b: 300\n",
      "------------------------------\n",
      "400\n",
      "A: 400 * 400\n",
      "b: 400\n",
      "------------------------------\n",
      "500\n",
      "A: 500 * 500\n",
      "b: 500\n",
      "------------------------------\n",
      "600\n",
      "A: 600 * 600\n",
      "b: 600\n",
      "------------------------------\n",
      "700\n",
      "A: 700 * 700\n",
      "b: 700\n",
      "------------------------------\n",
      "800\n",
      "A: 800 * 800\n",
      "b: 800\n",
      "------------------------------\n",
      "900\n",
      "A: 900 * 900\n",
      "b: 900\n",
      "------------------------------\n",
      "1000\n",
      "A: 1000 * 1000\n",
      "b: 1000\n",
      "------------------------------\n"
     ]
    }
   ],
   "source": [
    "test_suit = generate_test_data()\n",
    "for each_case in test_suit.items():\n",
    "    print(each_case[0])\n",
    "    print(f\"A: {len(each_case[1]['A'])} * {len(each_case[1]['A'][0])}\")\n",
    "    print(f\"b: {len(each_case[1]['b'])}\")\n",
    "    print(\"-\"*30)\n",
    "    "
   ]
  },
  {
   "cell_type": "code",
   "execution_count": null,
   "id": "5ec8e40b",
   "metadata": {},
   "outputs": [],
   "source": []
  },
  {
   "cell_type": "code",
   "execution_count": null,
   "id": "a74571ec",
   "metadata": {},
   "outputs": [],
   "source": []
  },
  {
   "cell_type": "code",
   "execution_count": null,
   "id": "cd906437",
   "metadata": {},
   "outputs": [
    {
     "name": "stdout",
     "output_type": "stream",
     "text": [
      "100\n",
      "4.269088268280029\n",
      "++++++++++++++++++++++++++++++ \n",
      "\n",
      "\n",
      "200\n",
      "31.920185804367065\n",
      "++++++++++++++++++++++++++++++ \n",
      "\n",
      "\n",
      "300\n",
      "87.29261469841003\n",
      "++++++++++++++++++++++++++++++ \n",
      "\n",
      "\n",
      "400\n",
      "165.16228914260864\n",
      "++++++++++++++++++++++++++++++ \n",
      "\n",
      "\n",
      "500\n",
      "326.83081793785095\n",
      "++++++++++++++++++++++++++++++ \n",
      "\n",
      "\n",
      "600\n",
      "444.676739692688\n",
      "++++++++++++++++++++++++++++++ \n",
      "\n",
      "\n",
      "700\n",
      "722.1010580062866\n",
      "++++++++++++++++++++++++++++++ \n",
      "\n",
      "\n",
      "800\n",
      "1330.1994743347168\n",
      "++++++++++++++++++++++++++++++ \n",
      "\n",
      "\n",
      "900\n",
      "1864.9360291957855\n",
      "++++++++++++++++++++++++++++++ \n",
      "\n",
      "\n",
      "1000\n"
     ]
    }
   ],
   "source": [
    "time_taken = {}\n",
    "for case_key, each_case in test_suit.items():\n",
    "    print(case_key)\n",
    "    st_time = time.time()\n",
    "    solution = guass_elimination(A = deepcopy(each_case['A']), b = deepcopy(each_case['b']), partial_pivoting=True, d=5)\n",
    "    time_taken = time.time() - st_time\n",
    "    each_case['with_pivoting_solution'] = solution\n",
    "    each_case['with_pivoting_time_taken'] = time_taken\n",
    "    print(each_case['with_pivoting_time_taken'])\n",
    "    print(\"+\"*30, \"\\n\\n\")\n",
    "    "
   ]
  },
  {
   "cell_type": "code",
   "execution_count": null,
   "id": "9624771a",
   "metadata": {},
   "outputs": [],
   "source": []
  },
  {
   "cell_type": "code",
   "execution_count": null,
   "id": "c6a1dcc5",
   "metadata": {},
   "outputs": [],
   "source": [
    "time_taken = {}\n",
    "for case_key, each_case in test_suit.items():\n",
    "    print(case_key)\n",
    "    st_time = time.time()\n",
    "    solution = guass_elimination(A = deepcopy(each_case['A']), b = deepcopy(each_case['b']), partial_pivoting=False, d=5)\n",
    "    time_taken = time.time() - st_time\n",
    "    each_case['without_pivoting_solution'] = solution\n",
    "    each_case['without_pivoting_time_taken'] = time_taken\n",
    "    print(each_case['without_pivoting_time_taken'])\n",
    "    print(\"+\"*30, \"\\n\\n\")\n",
    "    "
   ]
  },
  {
   "cell_type": "code",
   "execution_count": null,
   "id": "87dab38d",
   "metadata": {},
   "outputs": [],
   "source": []
  },
  {
   "cell_type": "code",
   "execution_count": null,
   "id": "ecebbeb9",
   "metadata": {},
   "outputs": [],
   "source": []
  },
  {
   "cell_type": "code",
   "execution_count": null,
   "id": "553d1105",
   "metadata": {},
   "outputs": [],
   "source": [
    "for case_id, each_case in test_suit.items():\n",
    "    print(case_id)\n",
    "    print(guass_operation_count(n=case_id))\n",
    "    print(\"=\"*30, \"\\n\")\n"
   ]
  },
  {
   "cell_type": "code",
   "execution_count": null,
   "id": "6f97e6e8",
   "metadata": {},
   "outputs": [],
   "source": [
    "efficiency = {'test_case': [], 'with_pivoting_time_taken': [], 'without_pivoting_time_taken': [], \n",
    "              'theoritical_time': []}\n",
    "for k, v in test_suit.items():\n",
    "    efficiency['test_case'].append(k)\n",
    "    efficiency['with_pivoting_time_taken'].append(v['with_pivoting_time_taken'])\n",
    "    efficiency['without_pivoting_time_taken'].append(v['without_pivoting_time_taken'])\n",
    "    theoritical_time = guass_operation_count(n=k)\n",
    "    efficiency['theoritical_time'].append(theoritical_time['addition'] + theoritical_time['multiplication'] + theoritical_time['division'])\n",
    "    \n",
    "\n",
    "efficiency_df = pd.DataFrame(efficiency)\n",
    "efficiency_df\n",
    "    "
   ]
  },
  {
   "cell_type": "code",
   "execution_count": null,
   "id": "c5e3316d",
   "metadata": {},
   "outputs": [],
   "source": []
  },
  {
   "cell_type": "code",
   "execution_count": null,
   "id": "76b403e3",
   "metadata": {},
   "outputs": [],
   "source": [
    "efficiency_df['log_n'] = efficiency_df['test_case'].map(math.log)\n",
    "efficiency_df"
   ]
  },
  {
   "cell_type": "code",
   "execution_count": null,
   "id": "55a464c2",
   "metadata": {},
   "outputs": [],
   "source": []
  },
  {
   "cell_type": "code",
   "execution_count": null,
   "id": "0bca2828",
   "metadata": {},
   "outputs": [],
   "source": [
    "def calculate_slope(x: list, y: list):\n",
    "    mean_x = sum(x) / len(x)\n",
    "    mean_y = sum(y) / len(y)\n",
    "    \n",
    "    numerator = sum([(i-mean_x) * (j-mean_y) for i,j in zip(x, y)])\n",
    "    dinominator = sum([(i-mean_x)**2 for i in x])\n",
    "    \n",
    "    return numerator / dinominator\n",
    "\n",
    "\n",
    "def calculate_y_intercept(mean_x, mean_y, m):\n",
    "    return mean_y - (m * mean_x)\n",
    "    \n",
    "    "
   ]
  },
  {
   "cell_type": "code",
   "execution_count": null,
   "id": "7f249bc5",
   "metadata": {},
   "outputs": [],
   "source": []
  },
  {
   "cell_type": "code",
   "execution_count": null,
   "id": "5bff8776",
   "metadata": {},
   "outputs": [],
   "source": [
    "efficiency_df['log_with_pivoting_time_taken'] = efficiency_df['with_pivoting_time_taken'].map(math.log)\n",
    "\n",
    "efficiency_df\n"
   ]
  },
  {
   "cell_type": "code",
   "execution_count": null,
   "id": "f40ccf84",
   "metadata": {},
   "outputs": [],
   "source": [
    "min_scale = min(efficiency_df['log_n'].tolist() + efficiency_df['log_with_pivoting_time_taken'].tolist())\n",
    "max_scale = max(efficiency_df['log_n'].tolist() + efficiency_df['log_with_pivoting_time_taken'].tolist())\n",
    "\n",
    "efficiency_df.plot.scatter(x = 'log_n', y = 'log_with_pivoting_time_taken', grid = True,\n",
    "                           xlim = (min_scale, max_scale), ylim = (min_scale, max_scale));\n"
   ]
  },
  {
   "cell_type": "code",
   "execution_count": null,
   "id": "a3bcd7e7",
   "metadata": {},
   "outputs": [],
   "source": [
    "# Calculating slope and y-intercept\n",
    "m = calculate_slope(x=efficiency_df['log_n'], y=efficiency_df['log_with_pivoting_time_taken'])\n",
    "y_intercept = calculate_y_intercept(mean_x=efficiency_df['log_n'].mean(), \n",
    "                                    mean_y=efficiency_df['log_with_pivoting_time_taken'].mean(),\n",
    "                                    m=m)\n",
    "# Rounding off\n",
    "m = roundto_d_significant(m, sig_digits=5)\n",
    "y_intercept = roundto_d_significant(y_intercept, sig_digits=5)\n",
    "\n",
    "# Fit the line and plot\n",
    "efficiency_df['log_with_pivoting_fitted_y'] = efficiency_df['log_n'].map(lambda x: m * x + y_intercept)\n",
    "ax = efficiency_df.plot.scatter(x = 'log_n', y = 'log_with_pivoting_time_taken', grid = True,\n",
    "                                xlim = (min_scale, max_scale), ylim = (min_scale, max_scale), \n",
    "                                title = f\"Slope: {m}\")\n",
    "efficiency_df.plot(x = 'log_n', y = 'log_with_pivoting_fitted_y', color='red' ,legend=False, ax=ax);\n"
   ]
  },
  {
   "cell_type": "code",
   "execution_count": null,
   "id": "a891c240",
   "metadata": {},
   "outputs": [],
   "source": []
  }
 ],
 "metadata": {
  "kernelspec": {
   "display_name": "Python 3",
   "language": "python",
   "name": "python3"
  },
  "language_info": {
   "codemirror_mode": {
    "name": "ipython",
    "version": 3
   },
   "file_extension": ".py",
   "mimetype": "text/x-python",
   "name": "python",
   "nbconvert_exporter": "python",
   "pygments_lexer": "ipython3",
   "version": "3.8.5"
  }
 },
 "nbformat": 4,
 "nbformat_minor": 5
}
