{
 "cells": [
  {
   "cell_type": "markdown",
   "id": "3375b064",
   "metadata": {},
   "source": [
    "**Function to implement Gauss Elimination With and Without pivoting.**"
   ]
  },
  {
   "cell_type": "code",
   "execution_count": 47,
   "id": "e6bb1d34",
   "metadata": {},
   "outputs": [
    {
     "name": "stdout",
     "output_type": "stream",
     "text": [
      "{'x0': 0.2903, 'x1': 0.4536, 'x2': 0.4771}\n",
      "{'x0': 0.8157, 'x1': 0.3421, 'x2': 0.07895}\n"
     ]
    }
   ],
   "source": [
    "import math\n",
    "from functools import partial\n",
    "import random\n",
    "\n",
    "def round_d_significant(value, significant_digits):\n",
    "    if value == 0:\n",
    "        return 0\n",
    "    return round(value, significant_digits - int(math.floor(math.log10(abs(value)))) - 1)\n",
    "\n",
    "def rank_of_matrix(matrix):\n",
    "    rank = 0\n",
    "    for row in matrix:\n",
    "        if sum(row) != 0:\n",
    "            rank += 1\n",
    "    return rank\n",
    "    \n",
    "def gauss_elimination(A: list, b: list, partial_pivoting: bool = False, d: int = 3):\n",
    "    \"\"\"\n",
    "    A: A square matrix n*n\n",
    "    b: A vecor of size n\n",
    "    partial_pivoting: Whether to perform partial pivoting or not\n",
    "    d: number of significant digits to be rounded to\n",
    "    \"\"\"\n",
    "    assert len(A) == len(b) # No of equations is equal to length of vector\n",
    "    for row in A:\n",
    "        assert len(row) == len(A) # Assert square matrix\n",
    "    rounding = partial(round_d_significant, significant_digits = d)\n",
    "    \n",
    "    # Create augmented matrix\n",
    "    for i in range(len(A)):\n",
    "        A[i].append(b[i])\n",
    "    # Bringing the matrix to reduced echelon form (REF)\n",
    "    for index_row in range(0, len(A)-1):\n",
    "        # Partial pivoting\n",
    "        if partial_pivoting:\n",
    "            cur_max = abs(A[index_row][index_row])\n",
    "            cur_max_row = index_row\n",
    "            # Check if pivoting need to be done\n",
    "            for i in range(index_row + 1, len(A)):\n",
    "                if abs(A[i][index_row]) > cur_max:\n",
    "                    cur_max = abs(A[i][index_row]) # Absolute value considered for pivoting\n",
    "                    cur_max_row = i\n",
    "            # If pivoting need to be done\n",
    "            if cur_max_row != index_row:\n",
    "                temp = A[index_row]\n",
    "                A[index_row] = A[cur_max_row]\n",
    "                A[cur_max_row] = temp\n",
    "        for i in range(index_row + 1, len(A)):\n",
    "            # Skip the rwo transform if the value is already zero\n",
    "            if A[i][index_row] == 0:\n",
    "                continue\n",
    "            # Calculate the coefficient to mutiply with the index row\n",
    "            scaler = rounding(A[i][index_row] / A[index_row][index_row])\n",
    "            if (A[i][index_row] < 0 and A[index_row][index_row] < 0) or ((A[i][index_row] > 0 and A[index_row][index_row] > 0)):\n",
    "                scaler = -scaler\n",
    "            # Assign all the prior values to zero\n",
    "            for j in range(0, index_row + 1):\n",
    "                A[i][j] = 0\n",
    "            # Compute rest of the values in the row\n",
    "            for j in range(index_row + 1, len(A[i])):\n",
    "                A[i][j] = rounding(A[i][j] + (scaler * A[index_row][j]))     \n",
    "                \n",
    "    # Back substitution\n",
    "    # Initialize None for all variables\n",
    "    variable_values = {}\n",
    "    for i in range(len(A)):\n",
    "        variable_values[f'x{i}'] = None\n",
    "    # Assign arbitrary values if needed\n",
    "    no_aug_A = [[A[i][j] for j in range(len(A[i]) - 1)] for i in range(len(A))]\n",
    "    if rank_of_matrix(no_aug_A) != rank_of_matrix(A):\n",
    "        print(\"The system is inconsistent!!\")\n",
    "        return\n",
    "    else:\n",
    "        if rank_of_matrix(A) < len(A):\n",
    "            for i in range(len(A)-1, rank_of_matrix(A)-1, -1):\n",
    "                variable_values[f'x{i}'] = rounding(random.random())\n",
    "        # Solve different equations for different variables\n",
    "        for i in range(rank_of_matrix(no_aug_A) - 1, -1, -1):\n",
    "            known_coeffs = [A[i][j] * variable_values[f'x{j}'] for j in range(i+1, len(A[i]) - 1)]\n",
    "            known_coeffs = [rounding(v) for v in known_coeffs]\n",
    "            rhs = rounding((A[i][-1] - rounding(sum(known_coeffs))))\n",
    "            variable_values[f'x{i}'] =  rounding(rhs / A[i][i])\n",
    "    return variable_values\n",
    "\n",
    "print(gauss_elimination(A=[[3, 7, 2], [4, 1, 5], [1, 3, 2]], b=[5, 4, 2], partial_pivoting=False, d=4))\n",
    "print(gauss_elimination(A=[[3, 7, 2], [4, 1, 5], [1, 3, 2]], b=[5, 4, 2], partial_pivoting=True, d=4))"
   ]
  },
  {
   "cell_type": "code",
   "execution_count": null,
   "id": "a349071e",
   "metadata": {},
   "outputs": [],
   "source": []
  },
  {
   "cell_type": "markdown",
   "id": "3163b928",
   "metadata": {},
   "source": [
    "**Code to count number of additions, multiplications & divisions**"
   ]
  },
  {
   "cell_type": "code",
   "execution_count": 45,
   "id": "da990ec9",
   "metadata": {},
   "outputs": [
    {
     "data": {
      "text/plain": [
       "{'addition': 17.0, 'multiplication': 17.0, 'division': 6.0}"
      ]
     },
     "execution_count": 45,
     "metadata": {},
     "output_type": "execute_result"
    }
   ],
   "source": [
    "def gauss_operation_count(n: int):\n",
    "    \"\"\"\n",
    "    n: Number of row / columns in a square matrix\n",
    "    \"\"\"\n",
    "    # Operation count for addition\n",
    "    ref_addition = (n * (n+1) * (2 * n + 1)) / 6 # Number of addition for REF\n",
    "    backsub_addition = (n * (n - 1)) / 2\n",
    "    total_addition = ref_addition + backsub_addition\n",
    "    \n",
    "    # Operation count for multiplication\n",
    "    total_multiplication = total_addition # Same as addition\n",
    "    \n",
    "    # Operation count for division\n",
    "    ref_division = (n * (n-1)) / 2\n",
    "    backsub_division = n\n",
    "    total_division = ref_division + backsub_division\n",
    "\n",
    "    # Summarize\n",
    "    operation_count = {\n",
    "        'addition': total_addition,\n",
    "        'multiplication': total_multiplication,\n",
    "        'division': total_division\n",
    "    }\n",
    "    \n",
    "    return operation_count\n",
    "\n",
    "gauss_operation_count(3)"
   ]
  },
  {
   "cell_type": "code",
   "execution_count": null,
   "id": "2b9e6458",
   "metadata": {},
   "outputs": [],
   "source": []
  }
 ],
 "metadata": {
  "kernelspec": {
   "display_name": "Python 3",
   "language": "python",
   "name": "python3"
  },
  "language_info": {
   "codemirror_mode": {
    "name": "ipython",
    "version": 3
   },
   "file_extension": ".py",
   "mimetype": "text/x-python",
   "name": "python",
   "nbconvert_exporter": "python",
   "pygments_lexer": "ipython3",
   "version": "3.8.5"
  }
 },
 "nbformat": 4,
 "nbformat_minor": 5
}
