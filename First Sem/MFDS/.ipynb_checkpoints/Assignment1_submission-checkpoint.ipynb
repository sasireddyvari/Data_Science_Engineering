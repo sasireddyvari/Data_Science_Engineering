{
 "cells": [
  {
   "cell_type": "code",
   "execution_count": 1,
   "metadata": {},
   "outputs": [],
   "source": [
    "import time\n",
    "import random\n",
    "import pandas as pd\n",
    "from tqdm import tqdm\n",
    "from copy import copy, deepcopy\n",
    "from pprint import pprint\n",
    "from functools import partial\n",
    "from matplotlib import pyplot as plt\n"
   ]
  },
  {
   "cell_type": "code",
   "execution_count": null,
   "metadata": {},
   "outputs": [],
   "source": []
  },
  {
   "cell_type": "code",
   "execution_count": null,
   "metadata": {},
   "outputs": [],
   "source": []
  },
  {
   "cell_type": "markdown",
   "metadata": {},
   "source": [
    "## Q1"
   ]
  },
  {
   "cell_type": "markdown",
   "metadata": {},
   "source": [
    "### i: Ans"
   ]
  },
  {
   "cell_type": "code",
   "execution_count": 24,
   "metadata": {},
   "outputs": [
    {
     "name": "stdout",
     "output_type": "stream",
     "text": [
      "Total time taken for add operation: 0.12328124046325684 seconds\n",
      "Approximate time taken for one add operation: 1.2328124046325683e-07 seconds\n",
      "500000500000\n"
     ]
    }
   ],
   "source": [
    "## Add operation\n",
    "add_op = 1\n",
    "st_time = time.time()\n",
    "for i in range(2, (10**6)+1):\n",
    "    add_op = i + add_op\n",
    "time_taken = time.time() - st_time\n",
    "print(f\"Total time taken for add operation: {time_taken} seconds\")\n",
    "print(f\"Approximate time taken for one add operation: {(time_taken / (10**6))} seconds\")\n",
    "print(add_op)\n"
   ]
  },
  {
   "cell_type": "code",
   "execution_count": 14,
   "metadata": {},
   "outputs": [
    {
     "name": "stdout",
     "output_type": "stream",
     "text": [
      "Time taken for multiplication operation: 296.88128900527954 seconds\n",
      "Approximate time taken for one multiplication operation: 0.00029688128900527954 seconds\n"
     ]
    }
   ],
   "source": [
    "## Multiplication operation\n",
    "mul_op = 1\n",
    "st_time = time.time()\n",
    "for i in range(2, (10**6)+1):\n",
    "    mul_op = i * mul_op\n",
    "time_taken = time.time() - st_time\n",
    "print(f\"Time taken for multiplication operation: {time_taken} seconds\")\n",
    "print(f\"Approximate time taken for one multiplication operation: {time_taken / (10**6)} seconds\")\n"
   ]
  },
  {
   "cell_type": "code",
   "execution_count": 23,
   "metadata": {},
   "outputs": [
    {
     "name": "stderr",
     "output_type": "stream",
     "text": [
      "100%|██████████| 999999/999999 [00:00<00:00, 2904237.51it/s]"
     ]
    },
    {
     "name": "stdout",
     "output_type": "stream",
     "text": [
      "Time taken for division operation: 0.3464500904083252 seconds\n",
      "Approximate time taken for one division operation: 3.464500904083252e-07 seconds\n",
      "1253.3144506440922\n"
     ]
    },
    {
     "name": "stderr",
     "output_type": "stream",
     "text": [
      "\n"
     ]
    }
   ],
   "source": [
    "## Division operation\n",
    "div_op = 1\n",
    "st_time = time.time()\n",
    "for i in tqdm(range(2, (10**6)+1)):\n",
    "    div_op = i / div_op\n",
    "time_taken = time.time() - st_time\n",
    "print(f\"Time taken for division operation: {time_taken} seconds\")\n",
    "print(f\"Approximate time taken for one division operation: {time_taken / (10**6)} seconds\")\n",
    "print(div_op)\n"
   ]
  },
  {
   "cell_type": "code",
   "execution_count": null,
   "metadata": {},
   "outputs": [],
   "source": []
  },
  {
   "cell_type": "code",
   "execution_count": null,
   "metadata": {},
   "outputs": [],
   "source": []
  },
  {
   "cell_type": "markdown",
   "metadata": {},
   "source": [
    "### ii: Ans"
   ]
  },
  {
   "cell_type": "markdown",
   "metadata": {},
   "source": [
    "#### a. Code for Guass elimination"
   ]
  },
  {
   "cell_type": "code",
   "execution_count": 177,
   "metadata": {},
   "outputs": [],
   "source": [
    "def roundto_d_significant(value, sig_digits):\n",
    "    if value == 0:\n",
    "        return 0\n",
    "    return round(value, sig_digits - int(math.floor(math.log10(abs(value)))) - 1)\n",
    "\n",
    "\n",
    "def rank_of_matrix(matrix):\n",
    "    rank = 0\n",
    "    for row in matrix:\n",
    "        if sum(row) != 0:\n",
    "            rank += 1\n",
    "    return rank\n",
    "    \n",
    "\n",
    "def guass_elimination(A: list, b: list, partial_pivoting: bool = False, d: int = 3):\n",
    "    \"\"\"\n",
    "    A: A square matrix n*n\n",
    "    b: A vecor of size n\n",
    "    partial_pivoting: Whether to perform partial pivoting or not\n",
    "    d: number of significant digits to be rounded to\n",
    "    \"\"\"\n",
    "    assert len(A) == len(b) # No of equations is equal to length of vector\n",
    "    for row in A:\n",
    "        assert len(row) == len(A) # Assert square matrix\n",
    "        \n",
    "    rounding = partial(roundto_d_significant, sig_digits = d)\n",
    "    \n",
    "    # Create augmented matrix\n",
    "    for i in range(len(A)):\n",
    "        A[i].append(b[i])\n",
    "    \n",
    "    # Bringing the matrix to reduced echelon form (REF)\n",
    "    for index_row in range(0, len(A)-1):\n",
    "        \n",
    "        # Partial pivoting\n",
    "        if partial_pivoting:\n",
    "            cur_max = abs(A[index_row][index_row])\n",
    "            cur_max_row = index_row\n",
    "            # Check if pivoting need to be done\n",
    "            for i in range(index_row + 1, len(A)):\n",
    "                if abs(A[i][index_row]) > cur_max:\n",
    "                    cur_max = abs(A[i][index_row]) # Absolute value considered for pivoting\n",
    "                    cur_max_row = i\n",
    "            # If pivoting need to be done\n",
    "            if cur_max_row != index_row:\n",
    "                temp = A[index_row]\n",
    "                A[index_row] = A[cur_max_row]\n",
    "                A[cur_max_row] = temp\n",
    "        \n",
    "        for i in range(index_row + 1, len(A)):\n",
    "            # Skip the rwo transform if the value is already zero\n",
    "            if A[i][index_row] == 0:\n",
    "                continue\n",
    "            \n",
    "            # Calculate the coefficient to mutiply with the index row\n",
    "            scaler = rounding(A[i][index_row] / A[index_row][index_row])\n",
    "            if (A[i][index_row] < 0 and A[index_row][index_row] < 0) or ((A[i][index_row] > 0 and A[index_row][index_row] > 0)):\n",
    "                scaler = -scaler\n",
    "            \n",
    "            # Assign all the prior values to zero\n",
    "            for j in range(0, index_row + 1):\n",
    "                A[i][j] = 0\n",
    "\n",
    "            # Compute rest of the values in the row\n",
    "            for j in range(index_row + 1, len(A[i])):\n",
    "                A[i][j] = rounding(A[i][j] + (scaler * A[index_row][j]))\n",
    "                \n",
    "                    \n",
    "    # Back substitution\n",
    "\n",
    "    # Initialize None for all variables\n",
    "    variable_values = {}\n",
    "    for i in range(len(A)):\n",
    "        variable_values[f'x{i}'] = None\n",
    "    \n",
    "    # Assign arbitrary values if needed\n",
    "    no_aug_A = [[A[i][j] for j in range(len(A[i]) - 1)] for i in range(len(A))]\n",
    "    if rank_of_matrix(no_aug_A) != rank_of_matrix(A):\n",
    "        print(\"The system is inconsistent!!\")\n",
    "        return\n",
    "    else:\n",
    "        if rank_of_matrix(A) < len(A):\n",
    "            for i in range(len(A)-1, rank_of_matrix(A)-1, -1):\n",
    "                variable_values[f'x{i}'] = rounding(random.random())\n",
    "        \n",
    "        # Solve different equations for different variables\n",
    "        for i in range(rank_of_matrix(no_aug_A) - 1, -1, -1):\n",
    "            known_coeffs = [A[i][j] * variable_values[f'x{j}'] for j in range(i+1, len(A[i]) - 1)]\n",
    "            known_coeffs = [rounding(v) for v in known_coeffs]\n",
    "            rhs = rounding((A[i][-1] - rounding(sum(known_coeffs))))\n",
    "            variable_values[f'x{i}'] =  rounding(rhs / A[i][i])\n",
    "\n",
    "    return variable_values\n",
    "\n",
    "\n"
   ]
  },
  {
   "cell_type": "code",
   "execution_count": 178,
   "metadata": {},
   "outputs": [
    {
     "data": {
      "text/plain": [
       "{'x0': 1.394, 'x1': 1.202, 'x2': 0.4042}"
      ]
     },
     "execution_count": 178,
     "metadata": {},
     "output_type": "execute_result"
    }
   ],
   "source": [
    "guass_elimination(A=[[1, 1, 1], [2, 4, 1], [6, 10, 4]], b=[3, 8, 22], partial_pivoting=False, d=4)\n"
   ]
  },
  {
   "cell_type": "code",
   "execution_count": null,
   "metadata": {},
   "outputs": [],
   "source": []
  },
  {
   "cell_type": "code",
   "execution_count": null,
   "metadata": {},
   "outputs": [],
   "source": []
  },
  {
   "cell_type": "markdown",
   "metadata": {},
   "source": [
    "#### b. Code for computing the number of operations (addition, multiplication and division) performed during Guass elimination"
   ]
  },
  {
   "cell_type": "code",
   "execution_count": 179,
   "metadata": {},
   "outputs": [],
   "source": [
    "def guass_operation_count(n: int):\n",
    "    \"\"\"\n",
    "    n: Number of row / columns in a square matrix\n",
    "    \"\"\"\n",
    "    # Operation count for addition\n",
    "    ref_addition = (n * (n+1) * (2 * n + 1)) / 6 # Number of addition for REF\n",
    "    backsub_addition = (n * (n - 1)) / 2\n",
    "    total_addition = ref_addition + backsub_addition\n",
    "    \n",
    "    # Operation count for multiplication\n",
    "    total_multiplication = total_addition # Same as addition\n",
    "    \n",
    "    # Operation count for division\n",
    "    ref_division = (n * (n-1)) / 2\n",
    "    backsub_division = n\n",
    "    total_division = ref_division + backsub_division\n",
    "\n",
    "    # Summarize\n",
    "    operation_count = {\n",
    "        'addition': total_addition,\n",
    "        'multiplication': total_multiplication,\n",
    "        'division': total_division\n",
    "    }\n",
    "    \n",
    "    return operation_count\n",
    "    "
   ]
  },
  {
   "cell_type": "code",
   "execution_count": 180,
   "metadata": {},
   "outputs": [
    {
     "data": {
      "text/plain": [
       "{'addition': 17.0, 'multiplication': 17.0, 'division': 6.0}"
      ]
     },
     "execution_count": 180,
     "metadata": {},
     "output_type": "execute_result"
    }
   ],
   "source": [
    "guass_operation_count(3)\n"
   ]
  },
  {
   "cell_type": "code",
   "execution_count": null,
   "metadata": {},
   "outputs": [],
   "source": []
  },
  {
   "cell_type": "code",
   "execution_count": null,
   "metadata": {},
   "outputs": [],
   "source": []
  },
  {
   "cell_type": "markdown",
   "metadata": {},
   "source": [
    "### iii. Ans:"
   ]
  },
  {
   "cell_type": "markdown",
   "metadata": {},
   "source": [
    "#### a. Generate test data"
   ]
  },
  {
   "cell_type": "code",
   "execution_count": 181,
   "metadata": {},
   "outputs": [],
   "source": [
    "def generate_test_data():\n",
    "    test_cases = {}\n",
    "    for case in range(100, 1100, 100):\n",
    "        A = [[roundto_d_significant(random.random(), sig_digits=5) for _ in range(case)]for _ in range(case)]\n",
    "        b = [roundto_d_significant(random.random(), sig_digits=5) for _ in range(case)]\n",
    "        test_cases[case] = {'A': A, 'b': b}\n",
    "\n",
    "    return test_cases\n",
    "    "
   ]
  },
  {
   "cell_type": "code",
   "execution_count": 198,
   "metadata": {
    "scrolled": true
   },
   "outputs": [
    {
     "name": "stdout",
     "output_type": "stream",
     "text": [
      "100\n",
      "A: 100 * 100\n",
      "b: 100\n",
      "------------------------------\n",
      "200\n",
      "A: 200 * 200\n",
      "b: 200\n",
      "------------------------------\n",
      "300\n",
      "A: 300 * 300\n",
      "b: 300\n",
      "------------------------------\n",
      "400\n",
      "A: 400 * 400\n",
      "b: 400\n",
      "------------------------------\n",
      "500\n",
      "A: 500 * 500\n",
      "b: 500\n",
      "------------------------------\n",
      "600\n",
      "A: 600 * 600\n",
      "b: 600\n",
      "------------------------------\n",
      "700\n",
      "A: 700 * 700\n",
      "b: 700\n",
      "------------------------------\n",
      "800\n",
      "A: 800 * 800\n",
      "b: 800\n",
      "------------------------------\n",
      "900\n",
      "A: 900 * 900\n",
      "b: 900\n",
      "------------------------------\n",
      "1000\n",
      "A: 1000 * 1000\n",
      "b: 1000\n",
      "------------------------------\n"
     ]
    }
   ],
   "source": [
    "test_suit = generate_test_data()\n",
    "for each_case in test_suit.items():\n",
    "    print(each_case[0])\n",
    "    print(f\"A: {len(each_case[1]['A'])} * {len(each_case[1]['A'][0])}\")\n",
    "    print(f\"b: {len(each_case[1]['b'])}\")\n",
    "    print(\"-\"*30)\n",
    "    "
   ]
  },
  {
   "cell_type": "code",
   "execution_count": null,
   "metadata": {},
   "outputs": [],
   "source": []
  },
  {
   "cell_type": "markdown",
   "metadata": {},
   "source": [
    "#### b. Perform Guassian elimination for each of the test case"
   ]
  },
  {
   "cell_type": "markdown",
   "metadata": {},
   "source": [
    "##### b.1 With pivoting"
   ]
  },
  {
   "cell_type": "code",
   "execution_count": 206,
   "metadata": {
    "scrolled": true
   },
   "outputs": [
    {
     "name": "stdout",
     "output_type": "stream",
     "text": [
      "100\n",
      "0.437183141708374\n",
      "++++++++++++++++++++++++++++++ \n",
      "\n",
      "\n",
      "200\n",
      "3.358119010925293\n",
      "++++++++++++++++++++++++++++++ \n",
      "\n",
      "\n",
      "300\n",
      "11.16418194770813\n",
      "++++++++++++++++++++++++++++++ \n",
      "\n",
      "\n",
      "400\n",
      "26.271177053451538\n",
      "++++++++++++++++++++++++++++++ \n",
      "\n",
      "\n",
      "500\n",
      "49.04456377029419\n",
      "++++++++++++++++++++++++++++++ \n",
      "\n",
      "\n",
      "600\n",
      "85.29930210113525\n",
      "++++++++++++++++++++++++++++++ \n",
      "\n",
      "\n",
      "700\n",
      "141.5861361026764\n",
      "++++++++++++++++++++++++++++++ \n",
      "\n",
      "\n",
      "800\n",
      "212.00815892219543\n",
      "++++++++++++++++++++++++++++++ \n",
      "\n",
      "\n",
      "900\n",
      "301.3688397407532\n",
      "++++++++++++++++++++++++++++++ \n",
      "\n",
      "\n",
      "1000\n",
      "415.51389384269714\n",
      "++++++++++++++++++++++++++++++ \n",
      "\n",
      "\n"
     ]
    }
   ],
   "source": [
    "time_taken = {}\n",
    "for case_key, each_case in test_suit.items():\n",
    "    print(case_key)\n",
    "    st_time = time.time()\n",
    "    solution = guass_elimination(A = deepcopy(each_case['A']), b = deepcopy(each_case['b']), partial_pivoting=True, d=5)\n",
    "    time_taken = time.time() - st_time\n",
    "    each_case['with_pivoting_solution'] = solution\n",
    "    each_case['with_pivoting_time_taken'] = time_taken\n",
    "    print(each_case['with_pivoting_time_taken'])\n",
    "    print(\"+\"*30, \"\\n\\n\")\n",
    "    "
   ]
  },
  {
   "cell_type": "code",
   "execution_count": null,
   "metadata": {},
   "outputs": [],
   "source": []
  },
  {
   "cell_type": "markdown",
   "metadata": {},
   "source": [
    "##### b.2 Without pivoting"
   ]
  },
  {
   "cell_type": "code",
   "execution_count": 207,
   "metadata": {
    "scrolled": true
   },
   "outputs": [
    {
     "name": "stdout",
     "output_type": "stream",
     "text": [
      "100\n",
      "0.4470217227935791\n",
      "++++++++++++++++++++++++++++++ \n",
      "\n",
      "\n",
      "200\n",
      "3.3569750785827637\n",
      "++++++++++++++++++++++++++++++ \n",
      "\n",
      "\n",
      "300\n",
      "11.293354988098145\n",
      "++++++++++++++++++++++++++++++ \n",
      "\n",
      "\n",
      "400\n",
      "27.551831007003784\n",
      "++++++++++++++++++++++++++++++ \n",
      "\n",
      "\n",
      "500\n",
      "52.457162857055664\n",
      "++++++++++++++++++++++++++++++ \n",
      "\n",
      "\n",
      "600\n",
      "91.81437301635742\n",
      "++++++++++++++++++++++++++++++ \n",
      "\n",
      "\n",
      "700\n",
      "154.76612401008606\n",
      "++++++++++++++++++++++++++++++ \n",
      "\n",
      "\n",
      "800\n",
      "238.54176497459412\n",
      "++++++++++++++++++++++++++++++ \n",
      "\n",
      "\n",
      "900\n",
      "327.51365971565247\n",
      "++++++++++++++++++++++++++++++ \n",
      "\n",
      "\n",
      "1000\n",
      "440.9039328098297\n",
      "++++++++++++++++++++++++++++++ \n",
      "\n",
      "\n"
     ]
    }
   ],
   "source": [
    "time_taken = {}\n",
    "for case_key, each_case in test_suit.items():\n",
    "    print(case_key)\n",
    "    st_time = time.time()\n",
    "    solution = guass_elimination(A = deepcopy(each_case['A']), b = deepcopy(each_case['b']), partial_pivoting=False, d=5)\n",
    "    time_taken = time.time() - st_time\n",
    "    each_case['without_pivoting_solution'] = solution\n",
    "    each_case['without_pivoting_time_taken'] = time_taken\n",
    "    print(each_case['without_pivoting_time_taken'])\n",
    "    print(\"+\"*30, \"\\n\\n\")\n",
    "    "
   ]
  },
  {
   "cell_type": "code",
   "execution_count": null,
   "metadata": {},
   "outputs": [],
   "source": []
  },
  {
   "cell_type": "markdown",
   "metadata": {},
   "source": [
    "#### c. Report the number of additions, multiplications and divisions for each case"
   ]
  },
  {
   "cell_type": "code",
   "execution_count": 210,
   "metadata": {
    "scrolled": true
   },
   "outputs": [
    {
     "name": "stdout",
     "output_type": "stream",
     "text": [
      "100\n",
      "{'addition': 343300.0, 'multiplication': 343300.0, 'division': 5050.0}\n",
      "============================== \n",
      "\n",
      "200\n",
      "{'addition': 2706600.0, 'multiplication': 2706600.0, 'division': 20100.0}\n",
      "============================== \n",
      "\n",
      "300\n",
      "{'addition': 9089900.0, 'multiplication': 9089900.0, 'division': 45150.0}\n",
      "============================== \n",
      "\n",
      "400\n",
      "{'addition': 21493200.0, 'multiplication': 21493200.0, 'division': 80200.0}\n",
      "============================== \n",
      "\n",
      "500\n",
      "{'addition': 41916500.0, 'multiplication': 41916500.0, 'division': 125250.0}\n",
      "============================== \n",
      "\n",
      "600\n",
      "{'addition': 72359800.0, 'multiplication': 72359800.0, 'division': 180300.0}\n",
      "============================== \n",
      "\n",
      "700\n",
      "{'addition': 114823100.0, 'multiplication': 114823100.0, 'division': 245350.0}\n",
      "============================== \n",
      "\n",
      "800\n",
      "{'addition': 171306400.0, 'multiplication': 171306400.0, 'division': 320400.0}\n",
      "============================== \n",
      "\n",
      "900\n",
      "{'addition': 243809700.0, 'multiplication': 243809700.0, 'division': 405450.0}\n",
      "============================== \n",
      "\n",
      "1000\n",
      "{'addition': 334333000.0, 'multiplication': 334333000.0, 'division': 500500.0}\n",
      "============================== \n",
      "\n"
     ]
    }
   ],
   "source": [
    "for case_id, each_case in test_suit.items():\n",
    "    print(case_id)\n",
    "    print(guass_operation_count(n=case_id))\n",
    "    print(\"=\"*30, \"\\n\")\n"
   ]
  },
  {
   "cell_type": "code",
   "execution_count": null,
   "metadata": {},
   "outputs": [],
   "source": []
  },
  {
   "cell_type": "code",
   "execution_count": null,
   "metadata": {},
   "outputs": [],
   "source": []
  },
  {
   "cell_type": "markdown",
   "metadata": {},
   "source": [
    "### iv. Ans:"
   ]
  },
  {
   "cell_type": "markdown",
   "metadata": {},
   "source": [
    "#### a. Tabulation"
   ]
  },
  {
   "cell_type": "code",
   "execution_count": 266,
   "metadata": {},
   "outputs": [
    {
     "data": {
      "text/html": [
       "<div>\n",
       "<style scoped>\n",
       "    .dataframe tbody tr th:only-of-type {\n",
       "        vertical-align: middle;\n",
       "    }\n",
       "\n",
       "    .dataframe tbody tr th {\n",
       "        vertical-align: top;\n",
       "    }\n",
       "\n",
       "    .dataframe thead th {\n",
       "        text-align: right;\n",
       "    }\n",
       "</style>\n",
       "<table border=\"1\" class=\"dataframe\">\n",
       "  <thead>\n",
       "    <tr style=\"text-align: right;\">\n",
       "      <th></th>\n",
       "      <th>test_case</th>\n",
       "      <th>with_pivoting_time_taken</th>\n",
       "      <th>without_pivoting_time_taken</th>\n",
       "      <th>theoritical_time</th>\n",
       "    </tr>\n",
       "  </thead>\n",
       "  <tbody>\n",
       "    <tr>\n",
       "      <th>0</th>\n",
       "      <td>100</td>\n",
       "      <td>0.437183</td>\n",
       "      <td>0.447022</td>\n",
       "      <td>691650.0</td>\n",
       "    </tr>\n",
       "    <tr>\n",
       "      <th>1</th>\n",
       "      <td>200</td>\n",
       "      <td>3.358119</td>\n",
       "      <td>3.356975</td>\n",
       "      <td>5433300.0</td>\n",
       "    </tr>\n",
       "    <tr>\n",
       "      <th>2</th>\n",
       "      <td>300</td>\n",
       "      <td>11.164182</td>\n",
       "      <td>11.293355</td>\n",
       "      <td>18224950.0</td>\n",
       "    </tr>\n",
       "    <tr>\n",
       "      <th>3</th>\n",
       "      <td>400</td>\n",
       "      <td>26.271177</td>\n",
       "      <td>27.551831</td>\n",
       "      <td>43066600.0</td>\n",
       "    </tr>\n",
       "    <tr>\n",
       "      <th>4</th>\n",
       "      <td>500</td>\n",
       "      <td>49.044564</td>\n",
       "      <td>52.457163</td>\n",
       "      <td>83958250.0</td>\n",
       "    </tr>\n",
       "    <tr>\n",
       "      <th>5</th>\n",
       "      <td>600</td>\n",
       "      <td>85.299302</td>\n",
       "      <td>91.814373</td>\n",
       "      <td>144899900.0</td>\n",
       "    </tr>\n",
       "    <tr>\n",
       "      <th>6</th>\n",
       "      <td>700</td>\n",
       "      <td>141.586136</td>\n",
       "      <td>154.766124</td>\n",
       "      <td>229891550.0</td>\n",
       "    </tr>\n",
       "    <tr>\n",
       "      <th>7</th>\n",
       "      <td>800</td>\n",
       "      <td>212.008159</td>\n",
       "      <td>238.541765</td>\n",
       "      <td>342933200.0</td>\n",
       "    </tr>\n",
       "    <tr>\n",
       "      <th>8</th>\n",
       "      <td>900</td>\n",
       "      <td>301.368840</td>\n",
       "      <td>327.513660</td>\n",
       "      <td>488024850.0</td>\n",
       "    </tr>\n",
       "    <tr>\n",
       "      <th>9</th>\n",
       "      <td>1000</td>\n",
       "      <td>415.513894</td>\n",
       "      <td>440.903933</td>\n",
       "      <td>669166500.0</td>\n",
       "    </tr>\n",
       "  </tbody>\n",
       "</table>\n",
       "</div>"
      ],
      "text/plain": [
       "   test_case  with_pivoting_time_taken  without_pivoting_time_taken  \\\n",
       "0        100                  0.437183                     0.447022   \n",
       "1        200                  3.358119                     3.356975   \n",
       "2        300                 11.164182                    11.293355   \n",
       "3        400                 26.271177                    27.551831   \n",
       "4        500                 49.044564                    52.457163   \n",
       "5        600                 85.299302                    91.814373   \n",
       "6        700                141.586136                   154.766124   \n",
       "7        800                212.008159                   238.541765   \n",
       "8        900                301.368840                   327.513660   \n",
       "9       1000                415.513894                   440.903933   \n",
       "\n",
       "   theoritical_time  \n",
       "0          691650.0  \n",
       "1         5433300.0  \n",
       "2        18224950.0  \n",
       "3        43066600.0  \n",
       "4        83958250.0  \n",
       "5       144899900.0  \n",
       "6       229891550.0  \n",
       "7       342933200.0  \n",
       "8       488024850.0  \n",
       "9       669166500.0  "
      ]
     },
     "execution_count": 266,
     "metadata": {},
     "output_type": "execute_result"
    }
   ],
   "source": [
    "efficiency = {'test_case': [], 'with_pivoting_time_taken': [], 'without_pivoting_time_taken': [], \n",
    "              'theoritical_time': []}\n",
    "for k, v in test_suit.items():\n",
    "    efficiency['test_case'].append(k)\n",
    "    efficiency['with_pivoting_time_taken'].append(v['with_pivoting_time_taken'])\n",
    "    efficiency['without_pivoting_time_taken'].append(v['without_pivoting_time_taken'])\n",
    "    theoritical_time = guass_operation_count(n=k)\n",
    "    efficiency['theoritical_time'].append(theoritical_time['addition'] + theoritical_time['multiplication'] + theoritical_time['division'])\n",
    "    \n",
    "\n",
    "efficiency_df = pd.DataFrame(efficiency)\n",
    "efficiency_df\n",
    "    "
   ]
  },
  {
   "cell_type": "code",
   "execution_count": null,
   "metadata": {},
   "outputs": [],
   "source": []
  },
  {
   "cell_type": "markdown",
   "metadata": {},
   "source": [
    "#### b. Plotting log(T(n)) vs long(n) for all 10 cases and fit a straight line and report the slope of the line"
   ]
  },
  {
   "cell_type": "code",
   "execution_count": 216,
   "metadata": {},
   "outputs": [],
   "source": [
    "efficiency_df['log_n'] = efficiency_df['test_case'].map(math.log)"
   ]
  },
  {
   "cell_type": "code",
   "execution_count": 217,
   "metadata": {},
   "outputs": [
    {
     "data": {
      "text/html": [
       "<div>\n",
       "<style scoped>\n",
       "    .dataframe tbody tr th:only-of-type {\n",
       "        vertical-align: middle;\n",
       "    }\n",
       "\n",
       "    .dataframe tbody tr th {\n",
       "        vertical-align: top;\n",
       "    }\n",
       "\n",
       "    .dataframe thead th {\n",
       "        text-align: right;\n",
       "    }\n",
       "</style>\n",
       "<table border=\"1\" class=\"dataframe\">\n",
       "  <thead>\n",
       "    <tr style=\"text-align: right;\">\n",
       "      <th></th>\n",
       "      <th>test_case</th>\n",
       "      <th>with_pivoting_time_taken</th>\n",
       "      <th>without_pivoting_time_taken</th>\n",
       "      <th>theoritical_time_add</th>\n",
       "      <th>theoritical_time_mul</th>\n",
       "      <th>theoritical_time_div</th>\n",
       "      <th>log_n</th>\n",
       "    </tr>\n",
       "  </thead>\n",
       "  <tbody>\n",
       "    <tr>\n",
       "      <th>0</th>\n",
       "      <td>100</td>\n",
       "      <td>0.437183</td>\n",
       "      <td>0.447022</td>\n",
       "      <td>334333000.0</td>\n",
       "      <td>334333000.0</td>\n",
       "      <td>500500.0</td>\n",
       "      <td>4.605170</td>\n",
       "    </tr>\n",
       "    <tr>\n",
       "      <th>1</th>\n",
       "      <td>200</td>\n",
       "      <td>3.358119</td>\n",
       "      <td>3.356975</td>\n",
       "      <td>334333000.0</td>\n",
       "      <td>334333000.0</td>\n",
       "      <td>500500.0</td>\n",
       "      <td>5.298317</td>\n",
       "    </tr>\n",
       "    <tr>\n",
       "      <th>2</th>\n",
       "      <td>300</td>\n",
       "      <td>11.164182</td>\n",
       "      <td>11.293355</td>\n",
       "      <td>334333000.0</td>\n",
       "      <td>334333000.0</td>\n",
       "      <td>500500.0</td>\n",
       "      <td>5.703782</td>\n",
       "    </tr>\n",
       "    <tr>\n",
       "      <th>3</th>\n",
       "      <td>400</td>\n",
       "      <td>26.271177</td>\n",
       "      <td>27.551831</td>\n",
       "      <td>334333000.0</td>\n",
       "      <td>334333000.0</td>\n",
       "      <td>500500.0</td>\n",
       "      <td>5.991465</td>\n",
       "    </tr>\n",
       "    <tr>\n",
       "      <th>4</th>\n",
       "      <td>500</td>\n",
       "      <td>49.044564</td>\n",
       "      <td>52.457163</td>\n",
       "      <td>334333000.0</td>\n",
       "      <td>334333000.0</td>\n",
       "      <td>500500.0</td>\n",
       "      <td>6.214608</td>\n",
       "    </tr>\n",
       "    <tr>\n",
       "      <th>5</th>\n",
       "      <td>600</td>\n",
       "      <td>85.299302</td>\n",
       "      <td>91.814373</td>\n",
       "      <td>334333000.0</td>\n",
       "      <td>334333000.0</td>\n",
       "      <td>500500.0</td>\n",
       "      <td>6.396930</td>\n",
       "    </tr>\n",
       "    <tr>\n",
       "      <th>6</th>\n",
       "      <td>700</td>\n",
       "      <td>141.586136</td>\n",
       "      <td>154.766124</td>\n",
       "      <td>334333000.0</td>\n",
       "      <td>334333000.0</td>\n",
       "      <td>500500.0</td>\n",
       "      <td>6.551080</td>\n",
       "    </tr>\n",
       "    <tr>\n",
       "      <th>7</th>\n",
       "      <td>800</td>\n",
       "      <td>212.008159</td>\n",
       "      <td>238.541765</td>\n",
       "      <td>334333000.0</td>\n",
       "      <td>334333000.0</td>\n",
       "      <td>500500.0</td>\n",
       "      <td>6.684612</td>\n",
       "    </tr>\n",
       "    <tr>\n",
       "      <th>8</th>\n",
       "      <td>900</td>\n",
       "      <td>301.368840</td>\n",
       "      <td>327.513660</td>\n",
       "      <td>334333000.0</td>\n",
       "      <td>334333000.0</td>\n",
       "      <td>500500.0</td>\n",
       "      <td>6.802395</td>\n",
       "    </tr>\n",
       "    <tr>\n",
       "      <th>9</th>\n",
       "      <td>1000</td>\n",
       "      <td>415.513894</td>\n",
       "      <td>440.903933</td>\n",
       "      <td>334333000.0</td>\n",
       "      <td>334333000.0</td>\n",
       "      <td>500500.0</td>\n",
       "      <td>6.907755</td>\n",
       "    </tr>\n",
       "  </tbody>\n",
       "</table>\n",
       "</div>"
      ],
      "text/plain": [
       "   test_case  with_pivoting_time_taken  without_pivoting_time_taken  \\\n",
       "0        100                  0.437183                     0.447022   \n",
       "1        200                  3.358119                     3.356975   \n",
       "2        300                 11.164182                    11.293355   \n",
       "3        400                 26.271177                    27.551831   \n",
       "4        500                 49.044564                    52.457163   \n",
       "5        600                 85.299302                    91.814373   \n",
       "6        700                141.586136                   154.766124   \n",
       "7        800                212.008159                   238.541765   \n",
       "8        900                301.368840                   327.513660   \n",
       "9       1000                415.513894                   440.903933   \n",
       "\n",
       "   theoritical_time_add  theoritical_time_mul  theoritical_time_div     log_n  \n",
       "0           334333000.0           334333000.0              500500.0  4.605170  \n",
       "1           334333000.0           334333000.0              500500.0  5.298317  \n",
       "2           334333000.0           334333000.0              500500.0  5.703782  \n",
       "3           334333000.0           334333000.0              500500.0  5.991465  \n",
       "4           334333000.0           334333000.0              500500.0  6.214608  \n",
       "5           334333000.0           334333000.0              500500.0  6.396930  \n",
       "6           334333000.0           334333000.0              500500.0  6.551080  \n",
       "7           334333000.0           334333000.0              500500.0  6.684612  \n",
       "8           334333000.0           334333000.0              500500.0  6.802395  \n",
       "9           334333000.0           334333000.0              500500.0  6.907755  "
      ]
     },
     "execution_count": 217,
     "metadata": {},
     "output_type": "execute_result"
    }
   ],
   "source": [
    "efficiency_df\n"
   ]
  },
  {
   "cell_type": "code",
   "execution_count": 234,
   "metadata": {},
   "outputs": [],
   "source": [
    "def calculate_slope(x: list, y: list):\n",
    "    mean_x = sum(x) / len(x)\n",
    "    mean_y = sum(y) / len(y)\n",
    "    \n",
    "    numerator = sum([(i-mean_x) * (j-mean_y) for i,j in zip(x, y)])\n",
    "    dinominator = sum([(i-mean_x)**2 for i in x])\n",
    "    \n",
    "    return numerator / dinominator\n",
    "\n",
    "\n",
    "def calculate_y_intercept(mean_x, mean_y, m):\n",
    "    return mean_y - (m * mean_x)\n",
    "    \n",
    "    "
   ]
  },
  {
   "cell_type": "code",
   "execution_count": null,
   "metadata": {},
   "outputs": [],
   "source": []
  },
  {
   "cell_type": "code",
   "execution_count": null,
   "metadata": {},
   "outputs": [],
   "source": []
  },
  {
   "cell_type": "markdown",
   "metadata": {},
   "source": [
    "##### b.1 With pivoting"
   ]
  },
  {
   "cell_type": "code",
   "execution_count": 218,
   "metadata": {},
   "outputs": [
    {
     "data": {
      "text/html": [
       "<div>\n",
       "<style scoped>\n",
       "    .dataframe tbody tr th:only-of-type {\n",
       "        vertical-align: middle;\n",
       "    }\n",
       "\n",
       "    .dataframe tbody tr th {\n",
       "        vertical-align: top;\n",
       "    }\n",
       "\n",
       "    .dataframe thead th {\n",
       "        text-align: right;\n",
       "    }\n",
       "</style>\n",
       "<table border=\"1\" class=\"dataframe\">\n",
       "  <thead>\n",
       "    <tr style=\"text-align: right;\">\n",
       "      <th></th>\n",
       "      <th>test_case</th>\n",
       "      <th>with_pivoting_time_taken</th>\n",
       "      <th>without_pivoting_time_taken</th>\n",
       "      <th>theoritical_time_add</th>\n",
       "      <th>theoritical_time_mul</th>\n",
       "      <th>theoritical_time_div</th>\n",
       "      <th>log_n</th>\n",
       "      <th>log_with_pivoting_time_taken</th>\n",
       "    </tr>\n",
       "  </thead>\n",
       "  <tbody>\n",
       "    <tr>\n",
       "      <th>0</th>\n",
       "      <td>100</td>\n",
       "      <td>0.437183</td>\n",
       "      <td>0.447022</td>\n",
       "      <td>334333000.0</td>\n",
       "      <td>334333000.0</td>\n",
       "      <td>500500.0</td>\n",
       "      <td>4.605170</td>\n",
       "      <td>-0.827403</td>\n",
       "    </tr>\n",
       "    <tr>\n",
       "      <th>1</th>\n",
       "      <td>200</td>\n",
       "      <td>3.358119</td>\n",
       "      <td>3.356975</td>\n",
       "      <td>334333000.0</td>\n",
       "      <td>334333000.0</td>\n",
       "      <td>500500.0</td>\n",
       "      <td>5.298317</td>\n",
       "      <td>1.211381</td>\n",
       "    </tr>\n",
       "    <tr>\n",
       "      <th>2</th>\n",
       "      <td>300</td>\n",
       "      <td>11.164182</td>\n",
       "      <td>11.293355</td>\n",
       "      <td>334333000.0</td>\n",
       "      <td>334333000.0</td>\n",
       "      <td>500500.0</td>\n",
       "      <td>5.703782</td>\n",
       "      <td>2.412711</td>\n",
       "    </tr>\n",
       "    <tr>\n",
       "      <th>3</th>\n",
       "      <td>400</td>\n",
       "      <td>26.271177</td>\n",
       "      <td>27.551831</td>\n",
       "      <td>334333000.0</td>\n",
       "      <td>334333000.0</td>\n",
       "      <td>500500.0</td>\n",
       "      <td>5.991465</td>\n",
       "      <td>3.268472</td>\n",
       "    </tr>\n",
       "    <tr>\n",
       "      <th>4</th>\n",
       "      <td>500</td>\n",
       "      <td>49.044564</td>\n",
       "      <td>52.457163</td>\n",
       "      <td>334333000.0</td>\n",
       "      <td>334333000.0</td>\n",
       "      <td>500500.0</td>\n",
       "      <td>6.214608</td>\n",
       "      <td>3.892729</td>\n",
       "    </tr>\n",
       "    <tr>\n",
       "      <th>5</th>\n",
       "      <td>600</td>\n",
       "      <td>85.299302</td>\n",
       "      <td>91.814373</td>\n",
       "      <td>334333000.0</td>\n",
       "      <td>334333000.0</td>\n",
       "      <td>500500.0</td>\n",
       "      <td>6.396930</td>\n",
       "      <td>4.446166</td>\n",
       "    </tr>\n",
       "    <tr>\n",
       "      <th>6</th>\n",
       "      <td>700</td>\n",
       "      <td>141.586136</td>\n",
       "      <td>154.766124</td>\n",
       "      <td>334333000.0</td>\n",
       "      <td>334333000.0</td>\n",
       "      <td>500500.0</td>\n",
       "      <td>6.551080</td>\n",
       "      <td>4.952908</td>\n",
       "    </tr>\n",
       "    <tr>\n",
       "      <th>7</th>\n",
       "      <td>800</td>\n",
       "      <td>212.008159</td>\n",
       "      <td>238.541765</td>\n",
       "      <td>334333000.0</td>\n",
       "      <td>334333000.0</td>\n",
       "      <td>500500.0</td>\n",
       "      <td>6.684612</td>\n",
       "      <td>5.356625</td>\n",
       "    </tr>\n",
       "    <tr>\n",
       "      <th>8</th>\n",
       "      <td>900</td>\n",
       "      <td>301.368840</td>\n",
       "      <td>327.513660</td>\n",
       "      <td>334333000.0</td>\n",
       "      <td>334333000.0</td>\n",
       "      <td>500500.0</td>\n",
       "      <td>6.802395</td>\n",
       "      <td>5.708335</td>\n",
       "    </tr>\n",
       "    <tr>\n",
       "      <th>9</th>\n",
       "      <td>1000</td>\n",
       "      <td>415.513894</td>\n",
       "      <td>440.903933</td>\n",
       "      <td>334333000.0</td>\n",
       "      <td>334333000.0</td>\n",
       "      <td>500500.0</td>\n",
       "      <td>6.907755</td>\n",
       "      <td>6.029516</td>\n",
       "    </tr>\n",
       "  </tbody>\n",
       "</table>\n",
       "</div>"
      ],
      "text/plain": [
       "   test_case  with_pivoting_time_taken  without_pivoting_time_taken  \\\n",
       "0        100                  0.437183                     0.447022   \n",
       "1        200                  3.358119                     3.356975   \n",
       "2        300                 11.164182                    11.293355   \n",
       "3        400                 26.271177                    27.551831   \n",
       "4        500                 49.044564                    52.457163   \n",
       "5        600                 85.299302                    91.814373   \n",
       "6        700                141.586136                   154.766124   \n",
       "7        800                212.008159                   238.541765   \n",
       "8        900                301.368840                   327.513660   \n",
       "9       1000                415.513894                   440.903933   \n",
       "\n",
       "   theoritical_time_add  theoritical_time_mul  theoritical_time_div     log_n  \\\n",
       "0           334333000.0           334333000.0              500500.0  4.605170   \n",
       "1           334333000.0           334333000.0              500500.0  5.298317   \n",
       "2           334333000.0           334333000.0              500500.0  5.703782   \n",
       "3           334333000.0           334333000.0              500500.0  5.991465   \n",
       "4           334333000.0           334333000.0              500500.0  6.214608   \n",
       "5           334333000.0           334333000.0              500500.0  6.396930   \n",
       "6           334333000.0           334333000.0              500500.0  6.551080   \n",
       "7           334333000.0           334333000.0              500500.0  6.684612   \n",
       "8           334333000.0           334333000.0              500500.0  6.802395   \n",
       "9           334333000.0           334333000.0              500500.0  6.907755   \n",
       "\n",
       "   log_with_pivoting_time_taken  \n",
       "0                     -0.827403  \n",
       "1                      1.211381  \n",
       "2                      2.412711  \n",
       "3                      3.268472  \n",
       "4                      3.892729  \n",
       "5                      4.446166  \n",
       "6                      4.952908  \n",
       "7                      5.356625  \n",
       "8                      5.708335  \n",
       "9                      6.029516  "
      ]
     },
     "execution_count": 218,
     "metadata": {},
     "output_type": "execute_result"
    }
   ],
   "source": [
    "efficiency_df['log_with_pivoting_time_taken'] = efficiency_df['with_pivoting_time_taken'].map(math.log)\n",
    "\n",
    "efficiency_df\n"
   ]
  },
  {
   "cell_type": "code",
   "execution_count": 252,
   "metadata": {},
   "outputs": [
    {
     "data": {
      "image/png": "[encoded data removed]",
      "text/plain": [
       "<Figure size 432x288 with 1 Axes>"
      ]
     },
     "metadata": {
      "needs_background": "light"
     },
     "output_type": "display_data"
    }
   ],
   "source": [
    "min_scale = min(efficiency_df['log_n'].tolist() + efficiency_df['log_with_pivoting_time_taken'].tolist())\n",
    "max_scale = max(efficiency_df['log_n'].tolist() + efficiency_df['log_with_pivoting_time_taken'].tolist())\n",
    "\n",
    "efficiency_df.plot.scatter(x = 'log_n', y = 'log_with_pivoting_time_taken', grid = True,\n",
    "                           xlim = (min_scale, max_scale), ylim = (min_scale, max_scale));\n"
   ]
  },
  {
   "cell_type": "code",
   "execution_count": 263,
   "metadata": {},
   "outputs": [
    {
     "data": {
      "image/png": "[encoded data removed]",
      "text/plain": [
       "<Figure size 432x288 with 1 Axes>"
      ]
     },
     "metadata": {
      "needs_background": "light"
     },
     "output_type": "display_data"
    }
   ],
   "source": [
    "# Calculating slope and y-intercept\n",
    "m = calculate_slope(x=efficiency_df['log_n'], y=efficiency_df['log_with_pivoting_time_taken'])\n",
    "y_intercept = calculate_y_intercept(mean_x=efficiency_df['log_n'].mean(), \n",
    "                                    mean_y=efficiency_df['log_with_pivoting_time_taken'].mean(),\n",
    "                                    m=m)\n",
    "# Rounding off\n",
    "m = roundto_d_significant(m, sig_digits=5)\n",
    "y_intercept = roundto_d_significant(y_intercept, sig_digits=5)\n",
    "\n",
    "# Fit the line and plot\n",
    "efficiency_df['log_with_pivoting_fitted_y'] = efficiency_df['log_n'].map(lambda x: m * x + y_intercept)\n",
    "ax = efficiency_df.plot.scatter(x = 'log_n', y = 'log_with_pivoting_time_taken', grid = True,\n",
    "                                xlim = (min_scale, max_scale), ylim = (min_scale, max_scale), \n",
    "                                title = f\"Slope: {m}\")\n",
    "efficiency_df.plot(x = 'log_n', y = 'log_with_pivoting_fitted_y', color='red' ,legend=False, ax=ax);\n"
   ]
  },
  {
   "cell_type": "code",
   "execution_count": null,
   "metadata": {},
   "outputs": [],
   "source": []
  },
  {
   "cell_type": "code",
   "execution_count": null,
   "metadata": {},
   "outputs": [],
   "source": []
  },
  {
   "cell_type": "markdown",
   "metadata": {},
   "source": [
    "##### b.2 Without pivoting"
   ]
  },
  {
   "cell_type": "code",
   "execution_count": 260,
   "metadata": {},
   "outputs": [
    {
     "data": {
      "text/html": [
       "<div>\n",
       "<style scoped>\n",
       "    .dataframe tbody tr th:only-of-type {\n",
       "        vertical-align: middle;\n",
       "    }\n",
       "\n",
       "    .dataframe tbody tr th {\n",
       "        vertical-align: top;\n",
       "    }\n",
       "\n",
       "    .dataframe thead th {\n",
       "        text-align: right;\n",
       "    }\n",
       "</style>\n",
       "<table border=\"1\" class=\"dataframe\">\n",
       "  <thead>\n",
       "    <tr style=\"text-align: right;\">\n",
       "      <th></th>\n",
       "      <th>test_case</th>\n",
       "      <th>with_pivoting_time_taken</th>\n",
       "      <th>without_pivoting_time_taken</th>\n",
       "      <th>theoritical_time_add</th>\n",
       "      <th>theoritical_time_mul</th>\n",
       "      <th>theoritical_time_div</th>\n",
       "      <th>log_n</th>\n",
       "      <th>log_with_pivoting_time_taken</th>\n",
       "      <th>log_with_pivoting_fitted_y</th>\n",
       "      <th>log_without_pivoting_time_taken</th>\n",
       "    </tr>\n",
       "  </thead>\n",
       "  <tbody>\n",
       "    <tr>\n",
       "      <th>0</th>\n",
       "      <td>100</td>\n",
       "      <td>0.437183</td>\n",
       "      <td>0.447022</td>\n",
       "      <td>334333000.0</td>\n",
       "      <td>334333000.0</td>\n",
       "      <td>500500.0</td>\n",
       "      <td>4.605170</td>\n",
       "      <td>-0.827403</td>\n",
       "      <td>-0.851852</td>\n",
       "      <td>-0.805148</td>\n",
       "    </tr>\n",
       "    <tr>\n",
       "      <th>1</th>\n",
       "      <td>200</td>\n",
       "      <td>3.358119</td>\n",
       "      <td>3.356975</td>\n",
       "      <td>334333000.0</td>\n",
       "      <td>334333000.0</td>\n",
       "      <td>500500.0</td>\n",
       "      <td>5.298317</td>\n",
       "      <td>1.211381</td>\n",
       "      <td>1.211837</td>\n",
       "      <td>1.211040</td>\n",
       "    </tr>\n",
       "    <tr>\n",
       "      <th>2</th>\n",
       "      <td>300</td>\n",
       "      <td>11.164182</td>\n",
       "      <td>11.293355</td>\n",
       "      <td>334333000.0</td>\n",
       "      <td>334333000.0</td>\n",
       "      <td>500500.0</td>\n",
       "      <td>5.703782</td>\n",
       "      <td>2.412711</td>\n",
       "      <td>2.419017</td>\n",
       "      <td>2.424214</td>\n",
       "    </tr>\n",
       "    <tr>\n",
       "      <th>3</th>\n",
       "      <td>400</td>\n",
       "      <td>26.271177</td>\n",
       "      <td>27.551831</td>\n",
       "      <td>334333000.0</td>\n",
       "      <td>334333000.0</td>\n",
       "      <td>500500.0</td>\n",
       "      <td>5.991465</td>\n",
       "      <td>3.268472</td>\n",
       "      <td>3.275525</td>\n",
       "      <td>3.316069</td>\n",
       "    </tr>\n",
       "    <tr>\n",
       "      <th>4</th>\n",
       "      <td>500</td>\n",
       "      <td>49.044564</td>\n",
       "      <td>52.457163</td>\n",
       "      <td>334333000.0</td>\n",
       "      <td>334333000.0</td>\n",
       "      <td>500500.0</td>\n",
       "      <td>6.214608</td>\n",
       "      <td>3.892729</td>\n",
       "      <td>3.939884</td>\n",
       "      <td>3.959997</td>\n",
       "    </tr>\n",
       "    <tr>\n",
       "      <th>5</th>\n",
       "      <td>600</td>\n",
       "      <td>85.299302</td>\n",
       "      <td>91.814373</td>\n",
       "      <td>334333000.0</td>\n",
       "      <td>334333000.0</td>\n",
       "      <td>500500.0</td>\n",
       "      <td>6.396930</td>\n",
       "      <td>4.446166</td>\n",
       "      <td>4.482705</td>\n",
       "      <td>4.519769</td>\n",
       "    </tr>\n",
       "    <tr>\n",
       "      <th>6</th>\n",
       "      <td>700</td>\n",
       "      <td>141.586136</td>\n",
       "      <td>154.766124</td>\n",
       "      <td>334333000.0</td>\n",
       "      <td>334333000.0</td>\n",
       "      <td>500500.0</td>\n",
       "      <td>6.551080</td>\n",
       "      <td>4.952908</td>\n",
       "      <td>4.941654</td>\n",
       "      <td>5.041915</td>\n",
       "    </tr>\n",
       "    <tr>\n",
       "      <th>7</th>\n",
       "      <td>800</td>\n",
       "      <td>212.008159</td>\n",
       "      <td>238.541765</td>\n",
       "      <td>334333000.0</td>\n",
       "      <td>334333000.0</td>\n",
       "      <td>500500.0</td>\n",
       "      <td>6.684612</td>\n",
       "      <td>5.356625</td>\n",
       "      <td>5.339213</td>\n",
       "      <td>5.474544</td>\n",
       "    </tr>\n",
       "    <tr>\n",
       "      <th>8</th>\n",
       "      <td>900</td>\n",
       "      <td>301.368840</td>\n",
       "      <td>327.513660</td>\n",
       "      <td>334333000.0</td>\n",
       "      <td>334333000.0</td>\n",
       "      <td>500500.0</td>\n",
       "      <td>6.802395</td>\n",
       "      <td>5.708335</td>\n",
       "      <td>5.689885</td>\n",
       "      <td>5.791530</td>\n",
       "    </tr>\n",
       "    <tr>\n",
       "      <th>9</th>\n",
       "      <td>1000</td>\n",
       "      <td>415.513894</td>\n",
       "      <td>440.903933</td>\n",
       "      <td>334333000.0</td>\n",
       "      <td>334333000.0</td>\n",
       "      <td>500500.0</td>\n",
       "      <td>6.907755</td>\n",
       "      <td>6.029516</td>\n",
       "      <td>6.003572</td>\n",
       "      <td>6.088827</td>\n",
       "    </tr>\n",
       "  </tbody>\n",
       "</table>\n",
       "</div>"
      ],
      "text/plain": [
       "   test_case  with_pivoting_time_taken  without_pivoting_time_taken  \\\n",
       "0        100                  0.437183                     0.447022   \n",
       "1        200                  3.358119                     3.356975   \n",
       "2        300                 11.164182                    11.293355   \n",
       "3        400                 26.271177                    27.551831   \n",
       "4        500                 49.044564                    52.457163   \n",
       "5        600                 85.299302                    91.814373   \n",
       "6        700                141.586136                   154.766124   \n",
       "7        800                212.008159                   238.541765   \n",
       "8        900                301.368840                   327.513660   \n",
       "9       1000                415.513894                   440.903933   \n",
       "\n",
       "   theoritical_time_add  theoritical_time_mul  theoritical_time_div     log_n  \\\n",
       "0           334333000.0           334333000.0              500500.0  4.605170   \n",
       "1           334333000.0           334333000.0              500500.0  5.298317   \n",
       "2           334333000.0           334333000.0              500500.0  5.703782   \n",
       "3           334333000.0           334333000.0              500500.0  5.991465   \n",
       "4           334333000.0           334333000.0              500500.0  6.214608   \n",
       "5           334333000.0           334333000.0              500500.0  6.396930   \n",
       "6           334333000.0           334333000.0              500500.0  6.551080   \n",
       "7           334333000.0           334333000.0              500500.0  6.684612   \n",
       "8           334333000.0           334333000.0              500500.0  6.802395   \n",
       "9           334333000.0           334333000.0              500500.0  6.907755   \n",
       "\n",
       "   log_with_pivoting_time_taken  log_with_pivoting_fitted_y  \\\n",
       "0                     -0.827403                   -0.851852   \n",
       "1                      1.211381                    1.211837   \n",
       "2                      2.412711                    2.419017   \n",
       "3                      3.268472                    3.275525   \n",
       "4                      3.892729                    3.939884   \n",
       "5                      4.446166                    4.482705   \n",
       "6                      4.952908                    4.941654   \n",
       "7                      5.356625                    5.339213   \n",
       "8                      5.708335                    5.689885   \n",
       "9                      6.029516                    6.003572   \n",
       "\n",
       "   log_without_pivoting_time_taken  \n",
       "0                        -0.805148  \n",
       "1                         1.211040  \n",
       "2                         2.424214  \n",
       "3                         3.316069  \n",
       "4                         3.959997  \n",
       "5                         4.519769  \n",
       "6                         5.041915  \n",
       "7                         5.474544  \n",
       "8                         5.791530  \n",
       "9                         6.088827  "
      ]
     },
     "execution_count": 260,
     "metadata": {},
     "output_type": "execute_result"
    }
   ],
   "source": [
    "efficiency_df['log_without_pivoting_time_taken'] = efficiency_df['without_pivoting_time_taken'].map(math.log)\n",
    "\n",
    "efficiency_df\n"
   ]
  },
  {
   "cell_type": "code",
   "execution_count": 261,
   "metadata": {},
   "outputs": [
    {
     "data": {
      "image/png": "[encoded data removed]",
      "text/plain": [
       "<Figure size 432x288 with 1 Axes>"
      ]
     },
     "metadata": {
      "needs_background": "light"
     },
     "output_type": "display_data"
    }
   ],
   "source": [
    "min_scale = min(efficiency_df['log_n'].tolist() + efficiency_df['log_without_pivoting_time_taken'].tolist())\n",
    "max_scale = max(efficiency_df['log_n'].tolist() + efficiency_df['log_without_pivoting_time_taken'].tolist())\n",
    "\n",
    "efficiency_df.plot.scatter(x = 'log_n', y = 'log_without_pivoting_time_taken', grid = True,\n",
    "                           xlim = (min_scale, max_scale), ylim = (min_scale, max_scale));\n"
   ]
  },
  {
   "cell_type": "code",
   "execution_count": 264,
   "metadata": {},
   "outputs": [
    {
     "data": {
      "image/png": "[encoded data removed]",
      "text/plain": [
       "<Figure size 432x288 with 1 Axes>"
      ]
     },
     "metadata": {
      "needs_background": "light"
     },
     "output_type": "display_data"
    }
   ],
   "source": [
    "# Calculating slope and y-intercept\n",
    "m = calculate_slope(x=efficiency_df['log_n'], y=efficiency_df['log_without_pivoting_time_taken'])\n",
    "y_intercept = calculate_y_intercept(mean_x=efficiency_df['log_n'].mean(), \n",
    "                                    mean_y=efficiency_df['log_without_pivoting_time_taken'].mean(),\n",
    "                                    m=m)\n",
    "\n",
    "# Rounding off\n",
    "m = roundto_d_significant(m, sig_digits=5)\n",
    "y_intercept = roundto_d_significant(y_intercept, sig_digits=5)\n",
    "\n",
    "# Fit the line and plot\n",
    "efficiency_df['log_without_pivoting_fitted_y'] = efficiency_df['log_n'].map(lambda x: m * x + y_intercept)\n",
    "\n",
    "ax = efficiency_df.plot.scatter(x = 'log_n', y = 'log_without_pivoting_time_taken', grid = True,\n",
    "                                xlim = (min_scale, max_scale), ylim = (min_scale, max_scale), \n",
    "                                title = f\"Slope: {m}\")\n",
    "efficiency_df.plot(x = 'log_n', y = 'log_without_pivoting_fitted_y', color='red' ,legend=False, ax=ax);\n"
   ]
  },
  {
   "cell_type": "code",
   "execution_count": null,
   "metadata": {},
   "outputs": [],
   "source": []
  },
  {
   "cell_type": "markdown",
   "metadata": {},
   "source": [
    "### End of Q1"
   ]
  },
  {
   "cell_type": "code",
   "execution_count": null,
   "metadata": {},
   "outputs": [],
   "source": []
  },
  {
   "cell_type": "code",
   "execution_count": null,
   "metadata": {},
   "outputs": [],
   "source": []
  },
  {
   "cell_type": "code",
   "execution_count": null,
   "metadata": {},
   "outputs": [],
   "source": []
  }
 ],
 "metadata": {
  "kernelspec": {
   "display_name": "Python 3",
   "language": "python",
   "name": "python3"
  },
  "language_info": {
   "codemirror_mode": {
    "name": "ipython",
    "version": 3
   },
   "file_extension": ".py",
   "mimetype": "text/x-python",
   "name": "python",
   "nbconvert_exporter": "python",
   "pygments_lexer": "ipython3",
   "version": "3.8.5"
  }
 },
 "nbformat": 4,
 "nbformat_minor": 4
}
